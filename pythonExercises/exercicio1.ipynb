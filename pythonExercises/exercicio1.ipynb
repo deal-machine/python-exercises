{
 "cells": [
  {
   "cell_type": "code",
   "execution_count": 1,
   "metadata": {},
   "outputs": [],
   "source": [
    "import pandas as pd"
   ]
  },
  {
   "cell_type": "code",
   "execution_count": 10,
   "metadata": {},
   "outputs": [],
   "source": [
    "queimadas = pd.read_csv('fire-data.csv', encoding='ISO-8859-1', sep='\\\\t', engine='python')"
   ]
  },
  {
   "cell_type": "code",
   "execution_count": 11,
   "metadata": {},
   "outputs": [],
   "source": [
    "queimadasFrame = pd.DataFrame(queimadas)"
   ]
  },
  {
   "cell_type": "code",
   "execution_count": 12,
   "metadata": {},
   "outputs": [
    {
     "name": "stdout",
     "output_type": "stream",
     "text": [
      "       \"Ano     Estado       Mês  Número     Período\"\n",
      "0     \"1998       Acre   Janeiro     0.0  01/01/1998\"\n",
      "1     \"1999       Acre   Janeiro     0.0  01/01/1999\"\n",
      "2     \"2000       Acre   Janeiro     0.0  01/01/2000\"\n",
      "3     \"2001       Acre   Janeiro     0.0  01/01/2001\"\n",
      "4     \"2002       Acre   Janeiro     0.0  01/01/2002\"\n",
      "...     ...        ...       ...     ...          ...\n",
      "6449  \"2012  Tocantins  Dezembro   128.0  01/01/2012\"\n",
      "6450  \"2013  Tocantins  Dezembro    85.0  01/01/2013\"\n",
      "6451  \"2014  Tocantins  Dezembro   223.0  01/01/2014\"\n",
      "6452  \"2015  Tocantins  Dezembro   373.0  01/01/2015\"\n",
      "6453  \"2016  Tocantins  Dezembro   119.0  01/01/2016\"\n",
      "\n",
      "[6454 rows x 5 columns]\n"
     ]
    }
   ],
   "source": [
    "print(queimadasFrame)"
   ]
  }
 ],
 "metadata": {
  "kernelspec": {
   "display_name": "Python 3",
   "language": "python",
   "name": "python3"
  },
  "language_info": {
   "codemirror_mode": {
    "name": "ipython",
    "version": 3
   },
   "file_extension": ".py",
   "mimetype": "text/x-python",
   "name": "python",
   "nbconvert_exporter": "python",
   "pygments_lexer": "ipython3",
   "version": "3.8.5"
  }
 },
 "nbformat": 4,
 "nbformat_minor": 4
}
