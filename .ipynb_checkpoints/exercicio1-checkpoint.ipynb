{
 "cells": [
  {
   "cell_type": "code",
   "execution_count": 1,
   "metadata": {},
   "outputs": [],
   "source": [
    "import pandas as pd"
   ]
  },
  {
   "cell_type": "code",
   "execution_count": 6,
   "metadata": {},
   "outputs": [],
   "source": [
    "queimadas = pd.read_csv('fire-data.csv', encoding='ISO-8859-1', sep='\\\\t' engine='python')"
   ]
  },
  {
   "cell_type": "code",
   "execution_count": 7,
   "metadata": {},
   "outputs": [],
   "source": [
    "queimadasFrame = pd.DataFrame(queimadas)"
   ]
  },
  {
   "cell_type": "code",
   "execution_count": 8,
   "metadata": {},
   "outputs": [
    {
     "name": "stdout",
     "output_type": "stream",
     "text": [
      "               Ano\\tEstado\\tMês\\tNúmero\\tPeríodo\n",
      "0             1998\\tAcre\\tJaneiro\\t0\\t01/01/1998\n",
      "1             1999\\tAcre\\tJaneiro\\t0\\t01/01/1999\n",
      "2             2000\\tAcre\\tJaneiro\\t0\\t01/01/2000\n",
      "3             2001\\tAcre\\tJaneiro\\t0\\t01/01/2001\n",
      "4             2002\\tAcre\\tJaneiro\\t0\\t01/01/2002\n",
      "...                                          ...\n",
      "6449  2012\\tTocantins\\tDezembro\\t128\\t01/01/2012\n",
      "6450   2013\\tTocantins\\tDezembro\\t85\\t01/01/2013\n",
      "6451  2014\\tTocantins\\tDezembro\\t223\\t01/01/2014\n",
      "6452  2015\\tTocantins\\tDezembro\\t373\\t01/01/2015\n",
      "6453  2016\\tTocantins\\tDezembro\\t119\\t01/01/2016\n",
      "\n",
      "[6454 rows x 1 columns]\n"
     ]
    }
   ],
   "source": [
    "print(queimadasFrame)"
   ]
  },
  {
   "cell_type": "code",
   "execution_count": null,
   "metadata": {},
   "outputs": [],
   "source": []
  }
 ],
 "metadata": {
  "kernelspec": {
   "display_name": "Python 3",
   "language": "python",
   "name": "python3"
  },
  "language_info": {
   "codemirror_mode": {
    "name": "ipython",
    "version": 3
   },
   "file_extension": ".py",
   "mimetype": "text/x-python",
   "name": "python",
   "nbconvert_exporter": "python",
   "pygments_lexer": "ipython3",
   "version": "3.8.5"
  }
 },
 "nbformat": 4,
 "nbformat_minor": 4
}
